{
 "cells": [
  {
   "cell_type": "markdown",
   "metadata": {},
   "source": [
    "# Notebook for testing commands from Vissim connector "
   ]
  },
  {
   "cell_type": "code",
   "execution_count": 1,
   "metadata": {},
   "outputs": [],
   "source": [
    "import win32com.client as com\n",
    "import os\n",
    "import warnings\n",
    "import sys\n",
    "import pandas as pd\n",
    "import numpy as np\n",
    "import importlib\n",
    "from scipy.stats import truncnorm\n",
    "import matplotlib.pyplot as plt"
   ]
  },
  {
   "cell_type": "code",
   "execution_count": 2,
   "metadata": {},
   "outputs": [],
   "source": [
    "sys.path.append(\n",
    "    r'C:\\Users\\fvall\\Documents\\Research\\TrafficSimulation\\SSMEstimation')\n",
    "import classesForSSM # necessary to reload the module later if needed\n",
    "from classesForSSM import VissimInterface, SSMAnalyzer"
   ]
  },
  {
   "cell_type": "code",
   "execution_count": 3,
   "metadata": {},
   "outputs": [],
   "source": [
    "# Reload after changes\n",
    "importlib.reload(classesForSSM)\n",
    "from classesForSSM import VissimInterface, SSMAnalyzer"
   ]
  },
  {
   "cell_type": "markdown",
   "metadata": {},
   "source": [
    "### Function drafts"
   ]
  },
  {
   "cell_type": "code",
   "execution_count": 4,
   "metadata": {},
   "outputs": [],
   "source": [
    "def create_ssms():\n",
    "    vi = VissimInterface()\n",
    "    # vi.generate_data()\n",
    "    ssm = SSMAnalyzer()\n",
    "    df_list = ssm.load_data(vi.vissim_networks_folder)\n",
    "    ssm.include_ttc(df_list)\n",
    "    ssm.include_drac(df_list)\n",
    "    return df_list"
   ]
  },
  {
   "cell_type": "markdown",
   "metadata": {},
   "source": [
    "### Open vissim instance"
   ]
  },
  {
   "cell_type": "code",
   "execution_count": 4,
   "metadata": {},
   "outputs": [],
   "source": [
    "vissimInt = VissimInterface()\n",
    "# vissimInt.open_and_set_simulation()\n",
    "# vissim = vissimInt.vissim"
   ]
  },
  {
   "cell_type": "markdown",
   "metadata": {},
   "source": [
    "### Generate data "
   ]
  },
  {
   "cell_type": "code",
   "execution_count": null,
   "metadata": {},
   "outputs": [],
   "source": [
    "vissimInt.generate_data()"
   ]
  },
  {
   "cell_type": "markdown",
   "metadata": {},
   "source": [
    "### Or load data "
   ]
  },
  {
   "cell_type": "code",
   "execution_count": 5,
   "metadata": {},
   "outputs": [],
   "source": [
    "df_list = vissimInt.vissim_output_to_dataframe()"
   ]
  },
  {
   "cell_type": "markdown",
   "metadata": {},
   "source": [
    "### Commands testing "
   ]
  },
  {
   "cell_type": "code",
   "execution_count": 57,
   "metadata": {},
   "outputs": [],
   "source": [
    "big_df = df_list[0].copy()\n",
    "big_df.set_index('time', inplace=True)\n",
    "big_df['leader number'].fillna(big_df['number'], inplace=True, downcast='infer')"
   ]
  },
  {
   "cell_type": "code",
   "execution_count": 8,
   "metadata": {},
   "outputs": [],
   "source": [
    "n_veh = max(small_df['number'])\n",
    "identity = np.eye(n_veh)"
   ]
  },
  {
   "cell_type": "code",
   "execution_count": 9,
   "metadata": {},
   "outputs": [
    {
     "name": "stdout",
     "output_type": "stream",
     "text": [
      "1.9 s ± 35.2 ms per loop (mean ± std. dev. of 7 runs, 1 loop each)\n"
     ]
    }
   ],
   "source": [
    "%%timeit\n",
    "for t in np.unique(small_df.index):\n",
    "    adj_matrix = np.zeros([n_veh, n_veh])\n",
    "    vel_vector = np.zeros(n_veh)\n",
    "    veh_idx = [i-1 for i in small_df.loc[t, 'number']]\n",
    "    adj_matrix[veh_idx, small_df.loc[t, 'leader number'].values-1] = -1\n",
    "    vel_vector[veh_idx] = small_df.loc[t, 'vx']\n",
    "    m = identity + adj_matrix\n",
    "    small_df.loc[t, 'delta v'] = np.matmul((identity+adj_matrix), vel_vector)[veh_idx]"
   ]
  },
  {
   "cell_type": "markdown",
   "metadata": {},
   "source": [
    "### Close Vissim"
   ]
  },
  {
   "cell_type": "code",
   "execution_count": null,
   "metadata": {},
   "outputs": [],
   "source": [
    "vissim = None"
   ]
  },
  {
   "cell_type": "code",
   "execution_count": null,
   "metadata": {},
   "outputs": [],
   "source": []
  }
 ],
 "metadata": {
  "kernelspec": {
   "display_name": "Python 3",
   "language": "python",
   "name": "python3"
  },
  "language_info": {
   "codemirror_mode": {
    "name": "ipython",
    "version": 3
   },
   "file_extension": ".py",
   "mimetype": "text/x-python",
   "name": "python",
   "nbconvert_exporter": "python",
   "pygments_lexer": "ipython3",
   "version": "3.7.6"
  }
 },
 "nbformat": 4,
 "nbformat_minor": 4
}
