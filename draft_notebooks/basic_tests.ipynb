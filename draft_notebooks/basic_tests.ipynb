{
 "cells": [
  {
   "cell_type": "markdown",
   "metadata": {},
   "source": [
    "# Notebook for testing commands from SSMEstimation Project"
   ]
  },
  {
   "cell_type": "code",
   "execution_count": 1,
   "metadata": {},
   "outputs": [],
   "source": [
    "import importlib\n",
    "import os\n",
    "import sys\n",
    "import warnings\n",
    "import win32com.client as com\n",
    "\n",
    "from scipy.stats import truncnorm\n",
    "from scipy.ndimage.filters import uniform_filter1d\n",
    "import matplotlib.pyplot as plt\n",
    "import pandas as pd\n",
    "import numpy as np"
   ]
  },
  {
   "cell_type": "code",
   "execution_count": 2,
   "metadata": {},
   "outputs": [],
   "source": [
    "sys.path.append(\n",
    "    r'C:\\Users\\fvall\\Documents\\Research\\TrafficSimulation\\SSMEstimation')\n",
    "import classesForSSM, readers # necessary to reload the module later if needed\n",
    "from readers import DataReader, NGSIMDataReader\n",
    "from classesForSSM import DataAnalyzer"
   ]
  },
  {
   "cell_type": "code",
   "execution_count": 3,
   "metadata": {},
   "outputs": [],
   "source": [
    "# Reload after changes\n",
    "importlib.reload(classesForSSM)\n",
    "from classesForSSM import DataAnalyzer\n",
    "from readers import DataReader, NGSIMDataReader"
   ]
  },
  {
   "cell_type": "markdown",
   "metadata": {},
   "source": [
    "## Function drafts"
   ]
  },
  {
   "cell_type": "markdown",
   "metadata": {},
   "source": [
    "## Open vissim instance"
   ]
  },
  {
   "cell_type": "code",
   "execution_count": null,
   "metadata": {},
   "outputs": [],
   "source": [
    "network_folder = VissimInterface.networks_folder\n",
    "network_file = \"I710 - MultiSec - 3mi\"\n",
    "# network_file = 'highway_in_and_out_lanes'"
   ]
  },
  {
   "cell_type": "code",
   "execution_count": null,
   "metadata": {},
   "outputs": [],
   "source": [
    "# vissimInt = VissimInterface()\n",
    "# vissimInt.open_and_set_simulation()\n",
    "# vissim = vissimInt.vissim"
   ]
  },
  {
   "cell_type": "markdown",
   "metadata": {},
   "source": [
    "## Commands testing "
   ]
  },
  {
   "cell_type": "code",
   "execution_count": 4,
   "metadata": {},
   "outputs": [],
   "source": [
    "data_folder = 'C:\\\\Users\\\\fvall\\\\Documents\\\\Research\\\\TrafficSimulation\\\\post_processed_data\\\\NGSIM'\n",
    "data_file = 'us-101'"
   ]
  },
  {
   "cell_type": "code",
   "execution_count": 5,
   "metadata": {},
   "outputs": [],
   "source": [
    "dr = DataReader(data_folder, data_file)"
   ]
  },
  {
   "cell_type": "code",
   "execution_count": 6,
   "metadata": {},
   "outputs": [],
   "source": [
    "data = dr.load_from_csv()"
   ]
  },
  {
   "cell_type": "markdown",
   "metadata": {},
   "source": [
    "### Issue with relative velocities"
   ]
  },
  {
   "cell_type": "code",
   "execution_count": 38,
   "metadata": {},
   "outputs": [],
   "source": [
    "problem_rows = data['vx'] == data['delta_v']"
   ]
  },
  {
   "cell_type": "code",
   "execution_count": 39,
   "metadata": {},
   "outputs": [
    {
     "data": {
      "text/plain": [
       "0.010430355892860208"
      ]
     },
     "execution_count": 39,
     "metadata": {},
     "output_type": "execute_result"
    }
   ],
   "source": [
    "# \"Size\" of issue: only about 1% of samples\n",
    "sum(problem_rows)/data.shape[0]"
   ]
  },
  {
   "cell_type": "code",
   "execution_count": 45,
   "metadata": {},
   "outputs": [],
   "source": [
    "leader_indices = data[['time', 'leader_id']].loc[problem_rows]"
   ]
  },
  {
   "cell_type": "code",
   "execution_count": null,
   "metadata": {},
   "outputs": [],
   "source": []
  },
  {
   "cell_type": "code",
   "execution_count": null,
   "metadata": {},
   "outputs": [],
   "source": []
  },
  {
   "cell_type": "code",
   "execution_count": null,
   "metadata": {},
   "outputs": [],
   "source": []
  },
  {
   "cell_type": "code",
   "execution_count": null,
   "metadata": {},
   "outputs": [],
   "source": []
  },
  {
   "cell_type": "markdown",
   "metadata": {},
   "source": [
    "### Moving Average Example "
   ]
  },
  {
   "cell_type": "code",
   "execution_count": 8,
   "metadata": {},
   "outputs": [],
   "source": [
    "ttc = df[df['TTC']<float('inf')]['TTC']"
   ]
  },
  {
   "cell_type": "code",
   "execution_count": 27,
   "metadata": {},
   "outputs": [],
   "source": [
    "N = 100000\n",
    "moving_avg = uniform_filter1d(ttc, size=N, mode='reflect')"
   ]
  },
  {
   "cell_type": "code",
   "execution_count": 28,
   "metadata": {},
   "outputs": [
    {
     "data": {
      "text/plain": [
       "[<matplotlib.lines.Line2D at 0x2e1071a6e08>]"
      ]
     },
     "execution_count": 28,
     "metadata": {},
     "output_type": "execute_result"
    },
    {
     "data": {
      "image/png": "[encoded data removed]",
      "text/plain": [
       "<Figure size 432x288 with 1 Axes>"
      ]
     },
     "metadata": {
      "needs_background": "light"
     },
     "output_type": "display_data"
    }
   ],
   "source": [
    "plt.plot(moving_avg)"
   ]
  },
  {
   "cell_type": "code",
   "execution_count": 67,
   "metadata": {},
   "outputs": [
    {
     "data": {
      "text/html": [
       "<div>\n",
       "<style scoped>\n",
       "    .dataframe tbody tr th:only-of-type {\n",
       "        vertical-align: middle;\n",
       "    }\n",
       "\n",
       "    .dataframe tbody tr th {\n",
       "        vertical-align: top;\n",
       "    }\n",
       "\n",
       "    .dataframe thead th {\n",
       "        text-align: right;\n",
       "    }\n",
       "</style>\n",
       "<table border=\"1\" class=\"dataframe\">\n",
       "  <thead>\n",
       "    <tr style=\"text-align: right;\">\n",
       "      <th></th>\n",
       "      <th>time</th>\n",
       "      <th>number</th>\n",
       "      <th>veh type</th>\n",
       "      <th>link</th>\n",
       "      <th>lane</th>\n",
       "      <th>x</th>\n",
       "      <th>vx</th>\n",
       "      <th>y</th>\n",
       "      <th>leader number</th>\n",
       "      <th>delta x</th>\n",
       "      <th>delta v</th>\n",
       "      <th>TTC</th>\n",
       "      <th>DRAC</th>\n",
       "      <th>CPI</th>\n",
       "      <th>safe gap</th>\n",
       "      <th>DTSG</th>\n",
       "      <th>time headway gap</th>\n",
       "    </tr>\n",
       "  </thead>\n",
       "  <tbody>\n",
       "    <tr>\n",
       "      <th>0</th>\n",
       "      <td>582.6</td>\n",
       "      <td>11</td>\n",
       "      <td>100</td>\n",
       "      <td>9</td>\n",
       "      <td>3</td>\n",
       "      <td>1565.21</td>\n",
       "      <td>101.09</td>\n",
       "      <td>0.5</td>\n",
       "      <td>11</td>\n",
       "      <td>250.00</td>\n",
       "      <td>0.00</td>\n",
       "      <td>inf</td>\n",
       "      <td>0.0</td>\n",
       "      <td>0.0</td>\n",
       "      <td>0.000000</td>\n",
       "      <td>250.000000</td>\n",
       "      <td>NaN</td>\n",
       "    </tr>\n",
       "    <tr>\n",
       "      <th>1</th>\n",
       "      <td>0.0</td>\n",
       "      <td>0</td>\n",
       "      <td>0</td>\n",
       "      <td>0</td>\n",
       "      <td>0</td>\n",
       "      <td>0.00</td>\n",
       "      <td>0.00</td>\n",
       "      <td>0.0</td>\n",
       "      <td>0</td>\n",
       "      <td>0.00</td>\n",
       "      <td>0.00</td>\n",
       "      <td>0.0</td>\n",
       "      <td>0.0</td>\n",
       "      <td>0.0</td>\n",
       "      <td>0.000000</td>\n",
       "      <td>0.000000</td>\n",
       "      <td>0.000000</td>\n",
       "    </tr>\n",
       "    <tr>\n",
       "      <th>2</th>\n",
       "      <td>582.6</td>\n",
       "      <td>18</td>\n",
       "      <td>100</td>\n",
       "      <td>9</td>\n",
       "      <td>3</td>\n",
       "      <td>1042.09</td>\n",
       "      <td>98.46</td>\n",
       "      <td>0.5</td>\n",
       "      <td>18</td>\n",
       "      <td>250.00</td>\n",
       "      <td>0.00</td>\n",
       "      <td>inf</td>\n",
       "      <td>0.0</td>\n",
       "      <td>0.0</td>\n",
       "      <td>0.000000</td>\n",
       "      <td>250.000000</td>\n",
       "      <td>NaN</td>\n",
       "    </tr>\n",
       "    <tr>\n",
       "      <th>3</th>\n",
       "      <td>582.6</td>\n",
       "      <td>21</td>\n",
       "      <td>100</td>\n",
       "      <td>9</td>\n",
       "      <td>3</td>\n",
       "      <td>559.36</td>\n",
       "      <td>95.60</td>\n",
       "      <td>0.5</td>\n",
       "      <td>21</td>\n",
       "      <td>250.00</td>\n",
       "      <td>0.00</td>\n",
       "      <td>inf</td>\n",
       "      <td>0.0</td>\n",
       "      <td>0.0</td>\n",
       "      <td>0.000000</td>\n",
       "      <td>250.000000</td>\n",
       "      <td>NaN</td>\n",
       "    </tr>\n",
       "    <tr>\n",
       "      <th>4</th>\n",
       "      <td>582.6</td>\n",
       "      <td>23</td>\n",
       "      <td>100</td>\n",
       "      <td>9</td>\n",
       "      <td>2</td>\n",
       "      <td>493.85</td>\n",
       "      <td>95.39</td>\n",
       "      <td>0.5</td>\n",
       "      <td>40</td>\n",
       "      <td>42.58</td>\n",
       "      <td>-6.39</td>\n",
       "      <td>inf</td>\n",
       "      <td>0.0</td>\n",
       "      <td>0.0</td>\n",
       "      <td>0.240351</td>\n",
       "      <td>42.339649</td>\n",
       "      <td>29.731564</td>\n",
       "    </tr>\n",
       "  </tbody>\n",
       "</table>\n",
       "</div>"
      ],
      "text/plain": [
       "    time  number  veh type  link  lane        x      vx    y  leader number  \\\n",
       "0  582.6      11       100     9     3  1565.21  101.09  0.5             11   \n",
       "1    0.0       0         0     0     0     0.00    0.00  0.0              0   \n",
       "2  582.6      18       100     9     3  1042.09   98.46  0.5             18   \n",
       "3  582.6      21       100     9     3   559.36   95.60  0.5             21   \n",
       "4  582.6      23       100     9     2   493.85   95.39  0.5             40   \n",
       "\n",
       "   delta x  delta v  TTC  DRAC  CPI  safe gap        DTSG  time headway gap  \n",
       "0   250.00     0.00  inf   0.0  0.0  0.000000  250.000000               NaN  \n",
       "1     0.00     0.00  0.0   0.0  0.0  0.000000    0.000000          0.000000  \n",
       "2   250.00     0.00  inf   0.0  0.0  0.000000  250.000000               NaN  \n",
       "3   250.00     0.00  inf   0.0  0.0  0.000000  250.000000               NaN  \n",
       "4    42.58    -6.39  inf   0.0  0.0  0.240351   42.339649         29.731564  "
      ]
     },
     "execution_count": 67,
     "metadata": {},
     "output_type": "execute_result"
    }
   ],
   "source": [
    "df.head()"
   ]
  },
  {
   "cell_type": "code",
   "execution_count": 83,
   "metadata": {},
   "outputs": [
    {
     "data": {
      "text/html": [
       "<div>\n",
       "<style scoped>\n",
       "    .dataframe tbody tr th:only-of-type {\n",
       "        vertical-align: middle;\n",
       "    }\n",
       "\n",
       "    .dataframe tbody tr th {\n",
       "        vertical-align: top;\n",
       "    }\n",
       "\n",
       "    .dataframe thead th {\n",
       "        text-align: right;\n",
       "    }\n",
       "</style>\n",
       "<table border=\"1\" class=\"dataframe\">\n",
       "  <thead>\n",
       "    <tr style=\"text-align: right;\">\n",
       "      <th></th>\n",
       "      <th>time</th>\n",
       "      <th>number</th>\n",
       "      <th>veh type</th>\n",
       "      <th>link</th>\n",
       "      <th>lane</th>\n",
       "      <th>x</th>\n",
       "      <th>vx</th>\n",
       "      <th>y</th>\n",
       "      <th>leader number</th>\n",
       "      <th>delta x</th>\n",
       "    </tr>\n",
       "  </thead>\n",
       "  <tbody>\n",
       "    <tr>\n",
       "      <th>50848</th>\n",
       "      <td>582.6</td>\n",
       "      <td>11</td>\n",
       "      <td>100</td>\n",
       "      <td>9</td>\n",
       "      <td>3</td>\n",
       "      <td>1565.21</td>\n",
       "      <td>101.09</td>\n",
       "      <td>0.5</td>\n",
       "      <td>NaN</td>\n",
       "      <td>250.00</td>\n",
       "    </tr>\n",
       "    <tr>\n",
       "      <th>50849</th>\n",
       "      <td>582.6</td>\n",
       "      <td>17</td>\n",
       "      <td>200</td>\n",
       "      <td>9</td>\n",
       "      <td>2</td>\n",
       "      <td>1371.05</td>\n",
       "      <td>100.52</td>\n",
       "      <td>0.5</td>\n",
       "      <td>29.0</td>\n",
       "      <td>179.70</td>\n",
       "    </tr>\n",
       "    <tr>\n",
       "      <th>50850</th>\n",
       "      <td>582.6</td>\n",
       "      <td>18</td>\n",
       "      <td>100</td>\n",
       "      <td>9</td>\n",
       "      <td>3</td>\n",
       "      <td>1042.09</td>\n",
       "      <td>98.46</td>\n",
       "      <td>0.5</td>\n",
       "      <td>NaN</td>\n",
       "      <td>250.00</td>\n",
       "    </tr>\n",
       "    <tr>\n",
       "      <th>50851</th>\n",
       "      <td>582.6</td>\n",
       "      <td>21</td>\n",
       "      <td>100</td>\n",
       "      <td>9</td>\n",
       "      <td>3</td>\n",
       "      <td>559.36</td>\n",
       "      <td>95.60</td>\n",
       "      <td>0.5</td>\n",
       "      <td>NaN</td>\n",
       "      <td>250.00</td>\n",
       "    </tr>\n",
       "    <tr>\n",
       "      <th>50852</th>\n",
       "      <td>582.6</td>\n",
       "      <td>23</td>\n",
       "      <td>100</td>\n",
       "      <td>9</td>\n",
       "      <td>2</td>\n",
       "      <td>493.85</td>\n",
       "      <td>95.39</td>\n",
       "      <td>0.5</td>\n",
       "      <td>40.0</td>\n",
       "      <td>42.58</td>\n",
       "    </tr>\n",
       "  </tbody>\n",
       "</table>\n",
       "</div>"
      ],
      "text/plain": [
       "        time  number  veh type  link  lane        x      vx    y  \\\n",
       "50848  582.6      11       100     9     3  1565.21  101.09  0.5   \n",
       "50849  582.6      17       200     9     2  1371.05  100.52  0.5   \n",
       "50850  582.6      18       100     9     3  1042.09   98.46  0.5   \n",
       "50851  582.6      21       100     9     3   559.36   95.60  0.5   \n",
       "50852  582.6      23       100     9     2   493.85   95.39  0.5   \n",
       "\n",
       "       leader number  delta x  \n",
       "50848            NaN   250.00  \n",
       "50849           29.0   179.70  \n",
       "50850            NaN   250.00  \n",
       "50851            NaN   250.00  \n",
       "50852           40.0    42.58  "
      ]
     },
     "execution_count": 83,
     "metadata": {},
     "output_type": "execute_result"
    }
   ],
   "source": [
    "vissim_df[vissim_df['time']==582.6].head()"
   ]
  },
  {
   "cell_type": "code",
   "execution_count": 60,
   "metadata": {},
   "outputs": [
    {
     "name": "stdout",
     "output_type": "stream",
     "text": [
      "429012\n",
      "326527\n"
     ]
    }
   ],
   "source": [
    "print(sum(vissim_df[vissim_df['time']>=582.6]['veh type']==200))\n",
    "print(sum(df['veh type']==200))"
   ]
  },
  {
   "cell_type": "code",
   "execution_count": 42,
   "metadata": {},
   "outputs": [
    {
     "data": {
      "text/html": [
       "<div>\n",
       "<style scoped>\n",
       "    .dataframe tbody tr th:only-of-type {\n",
       "        vertical-align: middle;\n",
       "    }\n",
       "\n",
       "    .dataframe tbody tr th {\n",
       "        vertical-align: top;\n",
       "    }\n",
       "\n",
       "    .dataframe thead th {\n",
       "        text-align: right;\n",
       "    }\n",
       "</style>\n",
       "<table border=\"1\" class=\"dataframe\">\n",
       "  <thead>\n",
       "    <tr style=\"text-align: right;\">\n",
       "      <th></th>\n",
       "      <th>TTC</th>\n",
       "    </tr>\n",
       "    <tr>\n",
       "      <th>time</th>\n",
       "      <th></th>\n",
       "    </tr>\n",
       "  </thead>\n",
       "  <tbody>\n",
       "    <tr>\n",
       "      <th>0.0</th>\n",
       "      <td>477482</td>\n",
       "    </tr>\n",
       "    <tr>\n",
       "      <th>582.6</th>\n",
       "      <td>69</td>\n",
       "    </tr>\n",
       "    <tr>\n",
       "      <th>582.8</th>\n",
       "      <td>69</td>\n",
       "    </tr>\n",
       "    <tr>\n",
       "      <th>583.0</th>\n",
       "      <td>71</td>\n",
       "    </tr>\n",
       "    <tr>\n",
       "      <th>583.2</th>\n",
       "      <td>69</td>\n",
       "    </tr>\n",
       "    <tr>\n",
       "      <th>...</th>\n",
       "      <td>...</td>\n",
       "    </tr>\n",
       "    <tr>\n",
       "      <th>3599.2</th>\n",
       "      <td>83</td>\n",
       "    </tr>\n",
       "    <tr>\n",
       "      <th>3599.4</th>\n",
       "      <td>84</td>\n",
       "    </tr>\n",
       "    <tr>\n",
       "      <th>3599.6</th>\n",
       "      <td>81</td>\n",
       "    </tr>\n",
       "    <tr>\n",
       "      <th>3599.8</th>\n",
       "      <td>82</td>\n",
       "    </tr>\n",
       "    <tr>\n",
       "      <th>3600.0</th>\n",
       "      <td>83</td>\n",
       "    </tr>\n",
       "  </tbody>\n",
       "</table>\n",
       "<p>15089 rows × 1 columns</p>\n",
       "</div>"
      ],
      "text/plain": [
       "           TTC\n",
       "time          \n",
       "0.0     477482\n",
       "582.6       69\n",
       "582.8       69\n",
       "583.0       71\n",
       "583.2       69\n",
       "...        ...\n",
       "3599.2      83\n",
       "3599.4      84\n",
       "3599.6      81\n",
       "3599.8      82\n",
       "3600.0      83\n",
       "\n",
       "[15089 rows x 1 columns]"
      ]
     },
     "execution_count": 42,
     "metadata": {},
     "output_type": "execute_result"
    }
   ],
   "source": [
    "df[df['TTC']<float('inf')][['time', 'TTC']].groupby('time').count()"
   ]
  },
  {
   "cell_type": "markdown",
   "metadata": {},
   "source": [
    "### Close Vissim"
   ]
  },
  {
   "cell_type": "code",
   "execution_count": null,
   "metadata": {},
   "outputs": [],
   "source": [
    "vissim = None"
   ]
  },
  {
   "cell_type": "code",
   "execution_count": null,
   "metadata": {},
   "outputs": [],
   "source": []
  }
 ],
 "metadata": {
  "kernelspec": {
   "display_name": "Python 3",
   "language": "python",
   "name": "python3"
  },
  "language_info": {
   "codemirror_mode": {
    "name": "ipython",
    "version": 3
   },
   "file_extension": ".py",
   "mimetype": "text/x-python",
   "name": "python",
   "nbconvert_exporter": "python",
   "pygments_lexer": "ipython3",
   "version": "3.7.6"
  }
 },
 "nbformat": 4,
 "nbformat_minor": 4
}
