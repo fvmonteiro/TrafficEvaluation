{
 "cells": [
  {
   "cell_type": "markdown",
   "metadata": {},
   "source": [
    "# NGSIM Data Checks "
   ]
  },
  {
   "cell_type": "markdown",
   "metadata": {},
   "source": [
    "We want to check if the aggregated results from the reports match the more detailed vehicle records data"
   ]
  },
  {
   "cell_type": "markdown",
   "metadata": {},
   "source": [
    "### Imports "
   ]
  },
  {
   "cell_type": "code",
   "execution_count": 1,
   "metadata": {},
   "outputs": [],
   "source": [
    "import os\n",
    "\n",
    "import matplotlib.pyplot as plt\n",
    "import pandas as pd\n",
    "import pytz\n",
    "import numpy as np"
   ]
  },
  {
   "cell_type": "markdown",
   "metadata": {},
   "source": [
    "### Load data"
   ]
  },
  {
   "cell_type": "code",
   "execution_count": 24,
   "metadata": {},
   "outputs": [],
   "source": [
    "data_folder = ('C:\\\\Users\\\\fvall\\\\Documents\\\\Research\\\\TrafficSimulation'\n",
    "               '\\\\NGSIM_original\\\\US-101-LosAngeles-CA\\\\us-101-vehicle'\n",
    "               '-trajectory-data')\n",
    "data_file = 'trajectories-0750am-0805am.csv'\n",
    "data_path = os.path.join(data_folder, data_file)"
   ]
  },
  {
   "cell_type": "code",
   "execution_count": 25,
   "metadata": {},
   "outputs": [],
   "source": [
    "data = pd.read_csv(data_path)"
   ]
  },
  {
   "cell_type": "code",
   "execution_count": 26,
   "metadata": {},
   "outputs": [
    {
     "data": {
      "text/html": [
       "<div>\n",
       "<style scoped>\n",
       "    .dataframe tbody tr th:only-of-type {\n",
       "        vertical-align: middle;\n",
       "    }\n",
       "\n",
       "    .dataframe tbody tr th {\n",
       "        vertical-align: top;\n",
       "    }\n",
       "\n",
       "    .dataframe thead th {\n",
       "        text-align: right;\n",
       "    }\n",
       "</style>\n",
       "<table border=\"1\" class=\"dataframe\">\n",
       "  <thead>\n",
       "    <tr style=\"text-align: right;\">\n",
       "      <th></th>\n",
       "      <th>Vehicle_ID</th>\n",
       "      <th>Frame_ID</th>\n",
       "      <th>Total_Frames</th>\n",
       "      <th>Global_Time</th>\n",
       "      <th>Local_X</th>\n",
       "      <th>Local_Y</th>\n",
       "      <th>Global_X</th>\n",
       "      <th>Global_Y</th>\n",
       "      <th>v_Length</th>\n",
       "      <th>v_Width</th>\n",
       "      <th>v_Class</th>\n",
       "      <th>v_Vel</th>\n",
       "      <th>v_Acc</th>\n",
       "      <th>Lane_ID</th>\n",
       "      <th>Preceding</th>\n",
       "      <th>Following</th>\n",
       "      <th>Space_Hdwy</th>\n",
       "      <th>Time_Hdwy</th>\n",
       "    </tr>\n",
       "  </thead>\n",
       "  <tbody>\n",
       "    <tr>\n",
       "      <th>0</th>\n",
       "      <td>2</td>\n",
       "      <td>13</td>\n",
       "      <td>437</td>\n",
       "      <td>1118846980200</td>\n",
       "      <td>16.467</td>\n",
       "      <td>35.381</td>\n",
       "      <td>6451137.641</td>\n",
       "      <td>1873344.962</td>\n",
       "      <td>14.5</td>\n",
       "      <td>4.9</td>\n",
       "      <td>2</td>\n",
       "      <td>40.0</td>\n",
       "      <td>0.0</td>\n",
       "      <td>2</td>\n",
       "      <td>0</td>\n",
       "      <td>0</td>\n",
       "      <td>0.0</td>\n",
       "      <td>0.0</td>\n",
       "    </tr>\n",
       "    <tr>\n",
       "      <th>1</th>\n",
       "      <td>2</td>\n",
       "      <td>14</td>\n",
       "      <td>437</td>\n",
       "      <td>1118846980300</td>\n",
       "      <td>16.447</td>\n",
       "      <td>39.381</td>\n",
       "      <td>6451140.329</td>\n",
       "      <td>1873342.000</td>\n",
       "      <td>14.5</td>\n",
       "      <td>4.9</td>\n",
       "      <td>2</td>\n",
       "      <td>40.0</td>\n",
       "      <td>0.0</td>\n",
       "      <td>2</td>\n",
       "      <td>0</td>\n",
       "      <td>0</td>\n",
       "      <td>0.0</td>\n",
       "      <td>0.0</td>\n",
       "    </tr>\n",
       "    <tr>\n",
       "      <th>2</th>\n",
       "      <td>2</td>\n",
       "      <td>15</td>\n",
       "      <td>437</td>\n",
       "      <td>1118846980400</td>\n",
       "      <td>16.426</td>\n",
       "      <td>43.381</td>\n",
       "      <td>6451143.018</td>\n",
       "      <td>1873339.038</td>\n",
       "      <td>14.5</td>\n",
       "      <td>4.9</td>\n",
       "      <td>2</td>\n",
       "      <td>40.0</td>\n",
       "      <td>0.0</td>\n",
       "      <td>2</td>\n",
       "      <td>0</td>\n",
       "      <td>0</td>\n",
       "      <td>0.0</td>\n",
       "      <td>0.0</td>\n",
       "    </tr>\n",
       "    <tr>\n",
       "      <th>3</th>\n",
       "      <td>2</td>\n",
       "      <td>16</td>\n",
       "      <td>437</td>\n",
       "      <td>1118846980500</td>\n",
       "      <td>16.405</td>\n",
       "      <td>47.380</td>\n",
       "      <td>6451145.706</td>\n",
       "      <td>1873336.077</td>\n",
       "      <td>14.5</td>\n",
       "      <td>4.9</td>\n",
       "      <td>2</td>\n",
       "      <td>40.0</td>\n",
       "      <td>0.0</td>\n",
       "      <td>2</td>\n",
       "      <td>0</td>\n",
       "      <td>0</td>\n",
       "      <td>0.0</td>\n",
       "      <td>0.0</td>\n",
       "    </tr>\n",
       "    <tr>\n",
       "      <th>4</th>\n",
       "      <td>2</td>\n",
       "      <td>17</td>\n",
       "      <td>437</td>\n",
       "      <td>1118846980600</td>\n",
       "      <td>16.385</td>\n",
       "      <td>51.381</td>\n",
       "      <td>6451148.395</td>\n",
       "      <td>1873333.115</td>\n",
       "      <td>14.5</td>\n",
       "      <td>4.9</td>\n",
       "      <td>2</td>\n",
       "      <td>40.0</td>\n",
       "      <td>0.0</td>\n",
       "      <td>2</td>\n",
       "      <td>0</td>\n",
       "      <td>0</td>\n",
       "      <td>0.0</td>\n",
       "      <td>0.0</td>\n",
       "    </tr>\n",
       "  </tbody>\n",
       "</table>\n",
       "</div>"
      ],
      "text/plain": [
       "   Vehicle_ID  Frame_ID  Total_Frames    Global_Time  Local_X  Local_Y  \\\n",
       "0           2        13           437  1118846980200   16.467   35.381   \n",
       "1           2        14           437  1118846980300   16.447   39.381   \n",
       "2           2        15           437  1118846980400   16.426   43.381   \n",
       "3           2        16           437  1118846980500   16.405   47.380   \n",
       "4           2        17           437  1118846980600   16.385   51.381   \n",
       "\n",
       "      Global_X     Global_Y  v_Length  v_Width  v_Class  v_Vel  v_Acc  \\\n",
       "0  6451137.641  1873344.962      14.5      4.9        2   40.0    0.0   \n",
       "1  6451140.329  1873342.000      14.5      4.9        2   40.0    0.0   \n",
       "2  6451143.018  1873339.038      14.5      4.9        2   40.0    0.0   \n",
       "3  6451145.706  1873336.077      14.5      4.9        2   40.0    0.0   \n",
       "4  6451148.395  1873333.115      14.5      4.9        2   40.0    0.0   \n",
       "\n",
       "   Lane_ID  Preceding  Following  Space_Hdwy  Time_Hdwy  \n",
       "0        2          0          0         0.0        0.0  \n",
       "1        2          0          0         0.0        0.0  \n",
       "2        2          0          0         0.0        0.0  \n",
       "3        2          0          0         0.0        0.0  \n",
       "4        2          0          0         0.0        0.0  "
      ]
     },
     "execution_count": 26,
     "metadata": {},
     "output_type": "execute_result"
    }
   ],
   "source": [
    "data.head()"
   ]
  },
  {
   "cell_type": "markdown",
   "metadata": {},
   "source": [
    "## Total number of lane changes "
   ]
  },
  {
   "cell_type": "code",
   "execution_count": 91,
   "metadata": {},
   "outputs": [],
   "source": [
    "# Making sure data is sorted by vehicle id and time\n",
    "data.sort_values(by=['Vehicle_ID', 'Frame_ID'], inplace=True)"
   ]
  },
  {
   "cell_type": "code",
   "execution_count": 61,
   "metadata": {},
   "outputs": [],
   "source": [
    "vehicles = np.unique(data['Vehicle_ID'])\n",
    "lanes = np.unique(data['Lane_ID'])"
   ]
  },
  {
   "cell_type": "code",
   "execution_count": 92,
   "metadata": {},
   "outputs": [],
   "source": [
    "vehicles_by_starting_lane = np.zeros(len(lanes))\n",
    "approx_lane_change_count = np.zeros(len(lanes))\n",
    "lane_changes_by_starting_lane = np.zeros(len(lanes))\n",
    "end_lane_by_starting_lane = np.zeros((len(lanes), len(lanes)))\n",
    "for vehicle in vehicles:\n",
    "    veh_lanes_over_time = data.loc[data['Vehicle_ID']==vehicle, \n",
    "                                   'Lane_ID']\n",
    "    veh_lanes = np.unique(veh_lanes_over_time)\n",
    "    starting_lane = veh_lanes_over_time.iloc[0]\n",
    "    ending_lane = veh_lanes_over_time.iloc[-1]\n",
    "    \n",
    "    vehicles_by_starting_lane[starting_lane-1] += 1\n",
    "    approx_lane_change_count[len(veh_lanes)-1] += 1\n",
    "    lane_changes_by_starting_lane[starting_lane-1] += (\n",
    "       len(veh_lanes)-1)\n",
    "    end_lane_by_starting_lane[starting_lane-1, ending_lane-1] += 1"
   ]
  },
  {
   "cell_type": "code",
   "execution_count": 63,
   "metadata": {},
   "outputs": [
    {
     "data": {
      "image/png": "[encoded data removed]",
      "text/plain": [
       "<Figure size 432x288 with 1 Axes>"
      ]
     },
     "metadata": {
      "needs_background": "light"
     },
     "output_type": "display_data"
    }
   ],
   "source": [
    "plt.plot([i for i in range(len(lanes))], approx_lane_change_count)\n",
    "plt.grid(True)"
   ]
  },
  {
   "cell_type": "code",
   "execution_count": 64,
   "metadata": {},
   "outputs": [
    {
     "data": {
      "text/plain": [
       "array([347., 388., 376., 372., 385.,   0., 125.,   0.])"
      ]
     },
     "execution_count": 64,
     "metadata": {},
     "output_type": "execute_result"
    }
   ],
   "source": [
    "vehicles_by_starting_lane"
   ]
  },
  {
   "cell_type": "code",
   "execution_count": 65,
   "metadata": {},
   "outputs": [
    {
     "data": {
      "text/plain": [
       "array([ 37.,  79.,  89., 129., 256.,   0., 364.,   0.])"
      ]
     },
     "execution_count": 65,
     "metadata": {},
     "output_type": "execute_result"
    }
   ],
   "source": [
    "lane_changes_by_starting_lane"
   ]
  },
  {
   "cell_type": "code",
   "execution_count": 93,
   "metadata": {},
   "outputs": [
    {
     "data": {
      "text/plain": [
       "array([[320.,  23.,   3.,   1.,   0.,   0.,   0.,   0.],\n",
       "       [ 39., 322.,  23.,   3.,   1.,   0.,   0.,   0.],\n",
       "       [  3.,  33., 310.,  28.,   2.,   0.,   0.,   0.],\n",
       "       [  1.,   8.,  57., 272.,  33.,   0.,   0.,   1.],\n",
       "       [  1.,   4.,  11.,  34., 266.,   0.,   0.,  69.],\n",
       "       [  0.,   0.,   0.,   0.,   0.,   0.,   0.,   0.],\n",
       "       [  2.,   9.,  15.,  40.,  59.,   0.,   0.,   0.],\n",
       "       [  0.,   0.,   0.,   0.,   0.,   0.,   0.,   0.]])"
      ]
     },
     "execution_count": 93,
     "metadata": {},
     "output_type": "execute_result"
    }
   ],
   "source": [
    "end_lane_by_starting_lane"
   ]
  },
  {
   "cell_type": "code",
   "execution_count": 90,
   "metadata": {},
   "outputs": [
    {
     "name": "stdout",
     "output_type": "stream",
     "text": [
      "2005-06-15 07:49:39.700000-07:00\n",
      "2005-06-15 08:04:29.500000-07:00\n"
     ]
    }
   ],
   "source": [
    "# Checking when the dataset starts and ends\n",
    "time_data = pd.to_datetime(data['Global_Time'], unit='ms', utc=True)\n",
    "tz = pytz.timezone('US/Pacific')\n",
    "print(time_data.min().astimezone(tz))\n",
    "print(time_data.max().astimezone(tz))"
   ]
  },
  {
   "cell_type": "markdown",
   "metadata": {},
   "source": [
    "Vehicle record data starts at the same time as the data from the aggregated results report\n",
    "\n",
    "Vehicle record data ends earlier than the data from the aggregated results report"
   ]
  },
  {
   "cell_type": "markdown",
   "metadata": {},
   "source": [
    "### Conclusions"
   ]
  },
  {
   "cell_type": "markdown",
   "metadata": {},
   "source": [
    "It is confusing that the basic data, vehicles per starting lane, does \n",
    "not seem to match the report. The number of lane changes and the matrix \n",
    "of end lane distribution seem OK (discounting for the fact that the total \n",
    "number of vehicles does not match).\n",
    "\n",
    "Since the flows and total number of vehicles (both from the aggregate \n",
    "report) don't seem to match perfectly either, I'll assume this is \n",
    "close enough."
   ]
  },
  {
   "cell_type": "code",
   "execution_count": 21,
   "metadata": {},
   "outputs": [],
   "source": [
    "veh_array = np.array([[53, 41, 39],[717, 710, 578]])"
   ]
  },
  {
   "cell_type": "code",
   "execution_count": 22,
   "metadata": {},
   "outputs": [
    {
     "data": {
      "text/plain": [
       "array([[ 636,  492,  468],\n",
       "       [8604, 8520, 6936]])"
      ]
     },
     "execution_count": 22,
     "metadata": {},
     "output_type": "execute_result"
    }
   ],
   "source": [
    "veh_array*12"
   ]
  },
  {
   "cell_type": "code",
   "execution_count": 13,
   "metadata": {},
   "outputs": [
    {
     "data": {
      "text/plain": [
       "array([9240, 9012, 7404])"
      ]
     },
     "execution_count": 13,
     "metadata": {},
     "output_type": "execute_result"
    }
   ],
   "source": [
    "np.sum(veh_array, axis=0)*12"
   ]
  },
  {
   "cell_type": "code",
   "execution_count": 14,
   "metadata": {},
   "outputs": [
    {
     "data": {
      "text/plain": [
       "array([770, 751, 617])"
      ]
     },
     "execution_count": 14,
     "metadata": {},
     "output_type": "execute_result"
    }
   ],
   "source": [
    "np.sum(veh_array, axis=0)"
   ]
  },
  {
   "cell_type": "markdown",
   "metadata": {},
   "source": [
    "## Mean Speeds "
   ]
  },
  {
   "cell_type": "code",
   "execution_count": 27,
   "metadata": {},
   "outputs": [
    {
     "data": {
      "text/plain": [
       "38.775792241846545"
      ]
     },
     "execution_count": 27,
     "metadata": {},
     "output_type": "execute_result"
    }
   ],
   "source": [
    "np.mean(data['v_Vel'])"
   ]
  },
  {
   "cell_type": "code",
   "execution_count": null,
   "metadata": {},
   "outputs": [],
   "source": []
  }
 ],
 "metadata": {
  "kernelspec": {
   "display_name": "Python 3",
   "language": "python",
   "name": "python3"
  },
  "language_info": {
   "codemirror_mode": {
    "name": "ipython",
    "version": 3
   },
   "file_extension": ".py",
   "mimetype": "text/x-python",
   "name": "python",
   "nbconvert_exporter": "python",
   "pygments_lexer": "ipython3",
   "version": "3.7.6"
  }
 },
 "nbformat": 4,
 "nbformat_minor": 4
}
